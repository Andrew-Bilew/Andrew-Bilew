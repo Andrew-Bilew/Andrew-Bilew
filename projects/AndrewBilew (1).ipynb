{
 "cells": [
  {
   "cell_type": "code",
   "execution_count": 1,
   "id": "85dbaa21-fea5-493b-aee2-014da52024c8",
   "metadata": {
    "tags": []
   },
   "outputs": [],
   "source": [
    "import pandas as pd\n",
    "import seaborn as sns\n",
    "import numpy as np"
   ]
  },
  {
   "cell_type": "code",
   "execution_count": 4,
   "id": "8ecfdebd-0500-4e4e-9940-f9ae38201ca8",
   "metadata": {
    "tags": []
   },
   "outputs": [],
   "source": [
    "mortality_data = pd.read_pickle(\"mortality_data.pkl\")"
   ]
  },
  {
   "cell_type": "code",
   "execution_count": 5,
   "id": "14795418-bc6b-4883-831b-3a62166f68df",
   "metadata": {
    "tags": []
   },
   "outputs": [],
   "source": [
    "mortality_wide = pd.read_pickle(\"mortality_wide.pkl\")"
   ]
  },
  {
   "cell_type": "code",
   "execution_count": 10,
   "id": "4f614e53-3d53-422b-9c69-641b0e04b2e8",
   "metadata": {
    "tags": []
   },
   "outputs": [
    {
     "name": "stdout",
     "output_type": "stream",
     "text": [
      "   Year  Age Group  Death Rate\n",
      "0  1900  1-4 Years      1983.8\n",
      "1  1901  1-4 Years      1695.0\n",
      "2  1902  1-4 Years      1655.7\n",
      "3  1903  1-4 Years      1542.1\n",
      "4  1904  1-4 Years      1591.5\n"
     ]
    }
   ],
   "source": [
    "# the first 5 rows\n",
    "print(mortality_data.head()) "
   ]
  },
  {
   "cell_type": "code",
   "execution_count": 24,
   "id": "ad3e338c-1dc3-463d-adca-996189a45745",
   "metadata": {
    "tags": []
   },
   "outputs": [],
   "source": [
    "mortality_data = mortality_data.rename(columns={\"Death Rate\": \"Deaths/100K\"})"
   ]
  },
  {
   "cell_type": "code",
   "execution_count": 25,
   "id": "4c8a83aa-4c4f-42a5-bdb1-aa4cc4eeb754",
   "metadata": {
    "tags": []
   },
   "outputs": [
    {
     "name": "stdout",
     "output_type": "stream",
     "text": [
      "   Year  Age Group  Deaths/100K\n",
      "0  1900  1-4 Years       1983.8\n",
      "1  1901  1-4 Years       1695.0\n",
      "2  1902  1-4 Years       1655.7\n",
      "3  1903  1-4 Years       1542.1\n",
      "4  1904  1-4 Years       1591.5\n"
     ]
    }
   ],
   "source": [
    "print(mortality_data.head(5))"
   ]
  },
  {
   "cell_type": "code",
   "execution_count": 33,
   "id": "9a8b7738-9ab8-4e93-8ff5-9088245546e0",
   "metadata": {
    "tags": []
   },
   "outputs": [
    {
     "name": "stdout",
     "output_type": "stream",
     "text": [
      "0      1900\n",
      "1      1901\n",
      "2      1902\n",
      "3      1903\n",
      "4      1904\n",
      "       ... \n",
      "471    2014\n",
      "472    2015\n",
      "473    2016\n",
      "474    2017\n",
      "475    2018\n",
      "Name: Year, Length: 476, dtype: int64\n"
     ]
    }
   ],
   "source": [
    "    print(mortality_data['Year'])"
   ]
  },
  {
   "cell_type": "code",
   "execution_count": 34,
   "id": "0588b552-b5a8-4b3f-90d5-f986bfe77123",
   "metadata": {
    "tags": []
   },
   "outputs": [
    {
     "name": "stdout",
     "output_type": "stream",
     "text": [
      "     Year    Age Group  Deaths/100K\n",
      "373  1916  15-19 Years        355.8\n",
      "374  1917  15-19 Years        380.3\n",
      "375  1918  15-19 Years        777.4\n",
      "376  1919  15-19 Years        438.5\n",
      "377  1920  15-19 Years        402.9\n"
     ]
    }
   ],
   "source": [
    "print(mortality_data[(mortality_data['Year'] >= 1915) & (mortality_data['Year'] <= 1920)].tail())"
   ]
  },
  {
   "cell_type": "code",
   "execution_count": 39,
   "id": "087aebf9-a716-453f-a78d-5cb64edfd773",
   "metadata": {
    "tags": []
   },
   "outputs": [
    {
     "name": "stdout",
     "output_type": "stream",
     "text": [
      "Empty DataFrame\n",
      "Columns: [Year, Deaths/100K]\n",
      "Index: []\n"
     ]
    }
   ],
   "source": [
    "print(mortality_data[mortality_data['Age Group'] == '01-04 Years'][['Year', 'Deaths/100K']])"
   ]
  },
  {
   "cell_type": "code",
   "execution_count": 41,
   "id": "3ed172f1-93a5-4df6-b852-a1ee329453d2",
   "metadata": {
    "tags": []
   },
   "outputs": [],
   "source": [
    "mortality_data = mortality_data.sort_values(by=\"Deaths/100K\", ascending=False)"
   ]
  },
  {
   "cell_type": "code",
   "execution_count": 42,
   "id": "13966666-92a6-40fe-ab27-902da621a9f6",
   "metadata": {
    "tags": []
   },
   "outputs": [
    {
     "name": "stdout",
     "output_type": "stream",
     "text": [
      "   Year  Age Group  Deaths/100K\n",
      "0  1900  1-4 Years       1983.8\n",
      "1  1901  1-4 Years       1695.0\n",
      "2  1902  1-4 Years       1655.7\n",
      "4  1904  1-4 Years       1591.5\n",
      "6  1906  1-4 Years       1580.0\n"
     ]
    }
   ],
   "source": [
    "print(mortality_data.head())"
   ]
  },
  {
   "cell_type": "code",
   "execution_count": 43,
   "id": "ebd99d2a-d085-4620-8364-a323a67a365c",
   "metadata": {
    "tags": []
   },
   "outputs": [],
   "source": [
    "median_deaths = mortality_data[\"Deaths/100K\"].median()"
   ]
  },
  {
   "cell_type": "code",
   "execution_count": 44,
   "id": "dc9454ce-3da6-49a5-ac4e-85de8addc733",
   "metadata": {
    "tags": []
   },
   "outputs": [
    {
     "name": "stdout",
     "output_type": "stream",
     "text": [
      "Median of Deaths/100K: 89.5\n"
     ]
    }
   ],
   "source": [
    "print(\"Median of Deaths/100K:\", median_deaths)"
   ]
  },
  {
   "cell_type": "code",
   "execution_count": 45,
   "id": "4e415b22-7b51-497b-bfb1-f4265f972dee",
   "metadata": {
    "tags": []
   },
   "outputs": [],
   "source": [
    "yearly_deaths_sum = mortality_data.groupby(\"Year\")[\"Deaths/100K\"].sum()"
   ]
  },
  {
   "cell_type": "code",
   "execution_count": 47,
   "id": "59047803-8786-4164-ba3a-1702b351d581",
   "metadata": {
    "tags": []
   },
   "outputs": [
    {
     "name": "stdout",
     "output_type": "stream",
     "text": [
      "Year\n",
      "1900    3233.0\n",
      "1901    2850.6\n",
      "1902    2733.0\n",
      "1903    2659.1\n",
      "1904    2793.1\n",
      "         ...  \n",
      "2014      95.0\n",
      "2015      99.5\n",
      "2016     103.3\n",
      "2017     102.9\n",
      "2018      99.6\n",
      "Name: Deaths/100K, Length: 119, dtype: float64\n"
     ]
    }
   ],
   "source": [
    "print(yearly_deaths_sum)"
   ]
  },
  {
   "cell_type": "code",
   "execution_count": null,
   "id": "0275c1bf-b448-4b80-9eac-1dea1189b526",
   "metadata": {},
   "outputs": [],
   "source": [
    "#mortality_Wide"
   ]
  },
  {
   "cell_type": "code",
   "execution_count": 48,
   "id": "c1df9775-1959-4909-8c0d-5db21f634da7",
   "metadata": {
    "tags": []
   },
   "outputs": [
    {
     "name": "stdout",
     "output_type": "stream",
     "text": [
      "   Year  01-04 Years  05-09 Years  10-14 Years  15-19 Years\n",
      "0  1900     0.019838     0.004661     0.002983     0.004848\n",
      "1  1901     0.016950     0.004276     0.002736     0.004544\n",
      "2  1902     0.016557     0.004033     0.002525     0.004215\n",
      "3  1903     0.015421     0.004147     0.002682     0.004341\n",
      "4  1904     0.015915     0.004250     0.003052     0.004714\n"
     ]
    }
   ],
   "source": [
    "print(mortality_wide.head())"
   ]
  },
  {
   "cell_type": "code",
   "execution_count": 50,
   "id": "2307c86e-7330-43cb-bb92-725e016ec277",
   "metadata": {
    "tags": []
   },
   "outputs": [
    {
     "name": "stdout",
     "output_type": "stream",
     "text": [
      "RangeIndex(start=0, stop=119, step=1)\n"
     ]
    }
   ],
   "source": [
    "print(mortality_wide.index)"
   ]
  },
  {
   "cell_type": "code",
   "execution_count": 51,
   "id": "48ae5704-e9b0-471c-be3b-f2a439813596",
   "metadata": {
    "tags": []
   },
   "outputs": [
    {
     "name": "stdout",
     "output_type": "stream",
     "text": [
      "              Year  01-04 Years  05-09 Years  10-14 Years  15-19 Years\n",
      "count   119.000000   119.000000   119.000000   119.000000   119.000000\n",
      "mean   1959.000000     0.003832     0.001173     0.000938     0.001774\n",
      "std      34.496377     0.005005     0.001275     0.000884     0.001384\n",
      "min    1900.000000     0.000240     0.000114     0.000139     0.000448\n",
      "25%    1929.500000     0.000507     0.000240     0.000272     0.000855\n",
      "50%    1959.000000     0.001091     0.000484     0.000446     0.001069\n",
      "75%    1988.500000     0.005773     0.001989     0.001589     0.002837\n",
      "max    2018.000000     0.019838     0.004661     0.003751     0.007774\n"
     ]
    }
   ],
   "source": [
    "print(mortality_wide.describe())"
   ]
  },
  {
   "cell_type": "code",
   "execution_count": 53,
   "id": "1fe8cc38-434b-4634-8960-f18635634aaa",
   "metadata": {
    "tags": []
   },
   "outputs": [
    {
     "name": "stdout",
     "output_type": "stream",
     "text": [
      "     Year  01-04 Years\n",
      "0    1900     0.019838\n",
      "1    1901     0.016950\n",
      "2    1902     0.016557\n",
      "3    1903     0.015421\n",
      "4    1904     0.015915\n",
      "..    ...          ...\n",
      "114  2014     0.000240\n",
      "115  2015     0.000249\n",
      "116  2016     0.000253\n",
      "117  2017     0.000243\n",
      "118  2018     0.000240\n",
      "\n",
      "[119 rows x 2 columns]\n"
     ]
    }
   ],
   "source": [
    "print(mortality_wide[['Year', \"01-04 Years\"]])"
   ]
  },
  {
   "cell_type": "code",
   "execution_count": 58,
   "id": "35a9c1dc-80fd-48e3-abfd-aa746c29ff45",
   "metadata": {
    "tags": []
   },
   "outputs": [
    {
     "name": "stdout",
     "output_type": "stream",
     "text": [
      "    Year  01-04 Years  05-09 Years  10-14 Years  15-19 Years\n",
      "15  1915     0.009242     0.002606     0.001967     0.003309\n",
      "16  1916     0.011115     0.002824     0.002051     0.003558\n",
      "17  1917     0.010660     0.002907     0.002189     0.003803\n",
      "18  1918     0.015735     0.004479     0.003751     0.007774\n",
      "19  1919     0.009280     0.003000     0.002364     0.004385\n",
      "20  1920     0.009872     0.002952     0.002299     0.004029\n"
     ]
    }
   ],
   "source": [
    "print(mortality_wide[(mortality_wide['Year'] >=1915) & (mortality_wide['Year'] <= 1920)])"
   ]
  },
  {
   "cell_type": "code",
   "execution_count": 59,
   "id": "c808c279-2283-4716-849d-cd8c9abcf9e0",
   "metadata": {
    "tags": []
   },
   "outputs": [
    {
     "name": "stdout",
     "output_type": "stream",
     "text": [
      "    Year  01-04 Years\n",
      "15  1915     0.009242\n",
      "16  1916     0.011115\n",
      "17  1917     0.010660\n",
      "18  1918     0.015735\n",
      "19  1919     0.009280\n",
      "20  1920     0.009872\n"
     ]
    }
   ],
   "source": [
    "print(mortality_wide[(mortality_wide['Year'] >= 1915) & (mortality_wide['Year'] <=1920)][['Year', '01-04 Years']])"
   ]
  },
  {
   "cell_type": "code",
   "execution_count": 61,
   "id": "6dafe7b8-b35f-45cd-9ea7-5da5103e10aa",
   "metadata": {
    "tags": []
   },
   "outputs": [],
   "source": [
    "yearly_aggregates = mortality_wide.groupby('Year').agg(['mean', 'sum'])"
   ]
  },
  {
   "cell_type": "code",
   "execution_count": 62,
   "id": "b3c385d3-bc93-4e5c-85f6-1690345ef52e",
   "metadata": {
    "tags": []
   },
   "outputs": [
    {
     "name": "stdout",
     "output_type": "stream",
     "text": [
      "     01-04 Years           05-09 Years           10-14 Years            \\\n",
      "            mean       sum        mean       sum        mean       sum   \n",
      "Year                                                                     \n",
      "1900    0.019838  0.019838    0.004661  0.004661    0.002983  0.002983   \n",
      "1901    0.016950  0.016950    0.004276  0.004276    0.002736  0.002736   \n",
      "1902    0.016557  0.016557    0.004033  0.004033    0.002525  0.002525   \n",
      "1903    0.015421  0.015421    0.004147  0.004147    0.002682  0.002682   \n",
      "1904    0.015915  0.015915    0.004250  0.004250    0.003052  0.003052   \n",
      "...          ...       ...         ...       ...         ...       ...   \n",
      "2014    0.000240  0.000240    0.000115  0.000115    0.000140  0.000140   \n",
      "2015    0.000249  0.000249    0.000117  0.000117    0.000146  0.000146   \n",
      "2016    0.000253  0.000253    0.000122  0.000122    0.000146  0.000146   \n",
      "2017    0.000243  0.000243    0.000116  0.000116    0.000155  0.000155   \n",
      "2018    0.000240  0.000240    0.000115  0.000115    0.000149  0.000149   \n",
      "\n",
      "     15-19 Years            \n",
      "            mean       sum  \n",
      "Year                        \n",
      "1900    0.004848  0.004848  \n",
      "1901    0.004544  0.004544  \n",
      "1902    0.004215  0.004215  \n",
      "1903    0.004341  0.004341  \n",
      "1904    0.004714  0.004714  \n",
      "...          ...       ...  \n",
      "2014    0.000455  0.000455  \n",
      "2015    0.000483  0.000483  \n",
      "2016    0.000512  0.000512  \n",
      "2017    0.000515  0.000515  \n",
      "2018    0.000492  0.000492  \n",
      "\n",
      "[119 rows x 8 columns]\n"
     ]
    }
   ],
   "source": [
    "print(yearly_aggregates)"
   ]
  },
  {
   "cell_type": "code",
   "execution_count": 63,
   "id": "305793c4-8842-46dc-945e-463f5ff54f34",
   "metadata": {
    "tags": []
   },
   "outputs": [],
   "source": [
    "mortality_wide['TotalDeaths'] = mortality_wide.select_dtypes(include='number').sum(axis=1)"
   ]
  },
  {
   "cell_type": "code",
   "execution_count": 64,
   "id": "71b9841d-bfec-4f3a-94ab-f0e746bc811f",
   "metadata": {
    "tags": []
   },
   "outputs": [
    {
     "name": "stdout",
     "output_type": "stream",
     "text": [
      "   Year  TotalDeaths\n",
      "0  1900  1900.032330\n",
      "1  1901  1901.028506\n",
      "2  1902  1902.027330\n",
      "3  1903  1903.026591\n",
      "4  1904  1904.027931\n"
     ]
    }
   ],
   "source": [
    "print(mortality_wide[['Year', 'TotalDeaths']].head())"
   ]
  },
  {
   "cell_type": "code",
   "execution_count": 65,
   "id": "bc9e173e-b974-4b4a-81af-cb6a59a9807c",
   "metadata": {
    "tags": []
   },
   "outputs": [],
   "source": [
    "import matplotlib.pyplot as plt"
   ]
  },
  {
   "cell_type": "code",
   "execution_count": 66,
   "id": "696e80e6-214f-4808-856c-d357fd9f37bb",
   "metadata": {
    "tags": []
   },
   "outputs": [
    {
     "data": {
      "image/png": "[encoded data removed]",
      "text/plain": [
       "<Figure size 1000x600 with 1 Axes>"
      ]
     },
     "metadata": {},
     "output_type": "display_data"
    }
   ],
   "source": [
    "plt.figure(figsize=(10,6))\n",
    "plt.plot(mortality_wide['Year'], mortality_wide['TotalDeaths'], marker='o', linestyle='-')\n",
    "plt.title('Total Deaths by Year')\n",
    "plt.xlabel('Year')\n",
    "plt.ylabel('Total Deaths')\n",
    "plt.grid(True)\n",
    "plt.show()"
   ]
  }
 ],
 "metadata": {
  "kernelspec": {
   "display_name": "Python 3 (ipykernel)",
   "language": "python",
   "name": "python3"
  },
  "language_info": {
   "codemirror_mode": {
    "name": "ipython",
    "version": 3
   },
   "file_extension": ".py",
   "mimetype": "text/x-python",
   "name": "python",
   "nbconvert_exporter": "python",
   "pygments_lexer": "ipython3",
   "version": "3.11.5"
  }
 },
 "nbformat": 4,
 "nbformat_minor": 5
}
