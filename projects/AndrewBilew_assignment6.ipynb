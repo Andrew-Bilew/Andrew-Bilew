{
 "cells": [
  {
   "cell_type": "code",
   "execution_count": 1,
   "id": "ce242b5b-5b2a-4b7e-9a30-1b2337bb9dbe",
   "metadata": {
    "tags": []
   },
   "outputs": [],
   "source": [
    "import pandas as pd\n",
    "import sklearn as sklearn\n",
    "from sklearn.model_selection import train_test_split\n",
    "from sklearn.metrics import accuracy_score\n",
    "from sklearn.neighbors import NearestNeighbors, KNeighborsClassifier\n",
    "from sklearn.preprocessing import StandardScaler\n",
    "import numpy as np\n",
    "import matplotlib.pyplot as plt"
   ]
  },
  {
   "cell_type": "code",
   "execution_count": 2,
   "id": "9b9feb8c-8ff9-4391-9a32-95de3e4bde36",
   "metadata": {
    "tags": []
   },
   "outputs": [],
   "source": [
    "bank = pd.read_csv(\"UniversalBank.csv\")"
   ]
  },
  {
   "cell_type": "code",
   "execution_count": 3,
   "id": "219184c4-102f-4520-a17f-c9dcc152a2fb",
   "metadata": {
    "tags": []
   },
   "outputs": [],
   "source": [
    "bankloan = bank"
   ]
  },
  {
   "cell_type": "code",
   "execution_count": 4,
   "id": "2b38ba29-f249-4ad6-a517-07f8b12e48e7",
   "metadata": {
    "tags": []
   },
   "outputs": [
    {
     "data": {
      "text/html": [
       "<div>\n",
       "<style scoped>\n",
       "    .dataframe tbody tr th:only-of-type {\n",
       "        vertical-align: middle;\n",
       "    }\n",
       "\n",
       "    .dataframe tbody tr th {\n",
       "        vertical-align: top;\n",
       "    }\n",
       "\n",
       "    .dataframe thead th {\n",
       "        text-align: right;\n",
       "    }\n",
       "</style>\n",
       "<table border=\"1\" class=\"dataframe\">\n",
       "  <thead>\n",
       "    <tr style=\"text-align: right;\">\n",
       "      <th></th>\n",
       "      <th>ID</th>\n",
       "      <th>Age</th>\n",
       "      <th>Experience</th>\n",
       "      <th>Income</th>\n",
       "      <th>ZIP Code</th>\n",
       "      <th>Family</th>\n",
       "      <th>CCAvg</th>\n",
       "      <th>Education</th>\n",
       "      <th>Mortgage</th>\n",
       "      <th>Personal Loan</th>\n",
       "      <th>Securities Account</th>\n",
       "      <th>CD Account</th>\n",
       "      <th>Online</th>\n",
       "      <th>CreditCard</th>\n",
       "    </tr>\n",
       "  </thead>\n",
       "  <tbody>\n",
       "    <tr>\n",
       "      <th>0</th>\n",
       "      <td>1</td>\n",
       "      <td>25</td>\n",
       "      <td>1</td>\n",
       "      <td>49</td>\n",
       "      <td>91107</td>\n",
       "      <td>4</td>\n",
       "      <td>1.6</td>\n",
       "      <td>1</td>\n",
       "      <td>0</td>\n",
       "      <td>0</td>\n",
       "      <td>1</td>\n",
       "      <td>0</td>\n",
       "      <td>0</td>\n",
       "      <td>0</td>\n",
       "    </tr>\n",
       "    <tr>\n",
       "      <th>1</th>\n",
       "      <td>2</td>\n",
       "      <td>45</td>\n",
       "      <td>19</td>\n",
       "      <td>34</td>\n",
       "      <td>90089</td>\n",
       "      <td>3</td>\n",
       "      <td>1.5</td>\n",
       "      <td>1</td>\n",
       "      <td>0</td>\n",
       "      <td>0</td>\n",
       "      <td>1</td>\n",
       "      <td>0</td>\n",
       "      <td>0</td>\n",
       "      <td>0</td>\n",
       "    </tr>\n",
       "    <tr>\n",
       "      <th>2</th>\n",
       "      <td>3</td>\n",
       "      <td>39</td>\n",
       "      <td>15</td>\n",
       "      <td>11</td>\n",
       "      <td>94720</td>\n",
       "      <td>1</td>\n",
       "      <td>1.0</td>\n",
       "      <td>1</td>\n",
       "      <td>0</td>\n",
       "      <td>0</td>\n",
       "      <td>0</td>\n",
       "      <td>0</td>\n",
       "      <td>0</td>\n",
       "      <td>0</td>\n",
       "    </tr>\n",
       "    <tr>\n",
       "      <th>3</th>\n",
       "      <td>4</td>\n",
       "      <td>35</td>\n",
       "      <td>9</td>\n",
       "      <td>100</td>\n",
       "      <td>94112</td>\n",
       "      <td>1</td>\n",
       "      <td>2.7</td>\n",
       "      <td>2</td>\n",
       "      <td>0</td>\n",
       "      <td>0</td>\n",
       "      <td>0</td>\n",
       "      <td>0</td>\n",
       "      <td>0</td>\n",
       "      <td>0</td>\n",
       "    </tr>\n",
       "    <tr>\n",
       "      <th>4</th>\n",
       "      <td>5</td>\n",
       "      <td>35</td>\n",
       "      <td>8</td>\n",
       "      <td>45</td>\n",
       "      <td>91330</td>\n",
       "      <td>4</td>\n",
       "      <td>1.0</td>\n",
       "      <td>2</td>\n",
       "      <td>0</td>\n",
       "      <td>0</td>\n",
       "      <td>0</td>\n",
       "      <td>0</td>\n",
       "      <td>0</td>\n",
       "      <td>1</td>\n",
       "    </tr>\n",
       "  </tbody>\n",
       "</table>\n",
       "</div>"
      ],
      "text/plain": [
       "   ID  Age  Experience  Income  ZIP Code  Family  CCAvg  Education  Mortgage  \\\n",
       "0   1   25           1      49     91107       4    1.6          1         0   \n",
       "1   2   45          19      34     90089       3    1.5          1         0   \n",
       "2   3   39          15      11     94720       1    1.0          1         0   \n",
       "3   4   35           9     100     94112       1    2.7          2         0   \n",
       "4   5   35           8      45     91330       4    1.0          2         0   \n",
       "\n",
       "   Personal Loan  Securities Account  CD Account  Online  CreditCard  \n",
       "0              0                   1           0       0           0  \n",
       "1              0                   1           0       0           0  \n",
       "2              0                   0           0       0           0  \n",
       "3              0                   0           0       0           0  \n",
       "4              0                   0           0       0           1  "
      ]
     },
     "execution_count": 4,
     "metadata": {},
     "output_type": "execute_result"
    }
   ],
   "source": [
    "bankloan.head()"
   ]
  },
  {
   "cell_type": "code",
   "execution_count": 5,
   "id": "ff0e1af5-e9a0-40e0-b8d9-7f4e369ef250",
   "metadata": {
    "tags": []
   },
   "outputs": [
    {
     "name": "stdout",
     "output_type": "stream",
     "text": [
      "<class 'pandas.core.frame.DataFrame'>\n",
      "RangeIndex: 5000 entries, 0 to 4999\n",
      "Data columns (total 14 columns):\n",
      " #   Column              Non-Null Count  Dtype  \n",
      "---  ------              --------------  -----  \n",
      " 0   ID                  5000 non-null   int64  \n",
      " 1   Age                 5000 non-null   int64  \n",
      " 2   Experience          5000 non-null   int64  \n",
      " 3   Income              5000 non-null   int64  \n",
      " 4   ZIP Code            5000 non-null   int64  \n",
      " 5   Family              5000 non-null   int64  \n",
      " 6   CCAvg               5000 non-null   float64\n",
      " 7   Education           5000 non-null   int64  \n",
      " 8   Mortgage            5000 non-null   int64  \n",
      " 9   Personal Loan       5000 non-null   int64  \n",
      " 10  Securities Account  5000 non-null   int64  \n",
      " 11  CD Account          5000 non-null   int64  \n",
      " 12  Online              5000 non-null   int64  \n",
      " 13  CreditCard          5000 non-null   int64  \n",
      "dtypes: float64(1), int64(13)\n",
      "memory usage: 547.0 KB\n"
     ]
    }
   ],
   "source": [
    "bankloan.info()"
   ]
  },
  {
   "cell_type": "code",
   "execution_count": 6,
   "id": "5b1c1199-304a-484e-8246-0dc81997a4a1",
   "metadata": {
    "tags": []
   },
   "outputs": [
    {
     "data": {
      "text/plain": [
       "Index(['ID', 'Age', 'Experience', 'Income', 'ZIP Code', 'Family', 'CCAvg',\n",
       "       'Education', 'Mortgage', 'Personal Loan', 'Securities Account',\n",
       "       'CD Account', 'Online', 'CreditCard'],\n",
       "      dtype='object')"
      ]
     },
     "execution_count": 6,
     "metadata": {},
     "output_type": "execute_result"
    }
   ],
   "source": [
    "bankloan.columns"
   ]
  },
  {
   "cell_type": "code",
   "execution_count": 7,
   "id": "55cdb9d6-017a-4d2b-9cc9-71fa0bb4e65c",
   "metadata": {
    "tags": []
   },
   "outputs": [],
   "source": [
    "if 'Education' in bankloan.columns:\n",
    "    bankloan['Education'] = bankloan['Education'].astype('category')"
   ]
  },
  {
   "cell_type": "code",
   "execution_count": 8,
   "id": "afe02f69-289a-49bf-bcb9-e8c8f2e55e5b",
   "metadata": {
    "tags": []
   },
   "outputs": [
    {
     "name": "stdout",
     "output_type": "stream",
     "text": [
      "<class 'pandas.core.frame.DataFrame'>\n",
      "RangeIndex: 5000 entries, 0 to 4999\n",
      "Data columns (total 14 columns):\n",
      " #   Column              Non-Null Count  Dtype   \n",
      "---  ------              --------------  -----   \n",
      " 0   ID                  5000 non-null   int64   \n",
      " 1   Age                 5000 non-null   int64   \n",
      " 2   Experience          5000 non-null   int64   \n",
      " 3   Income              5000 non-null   int64   \n",
      " 4   ZIP Code            5000 non-null   int64   \n",
      " 5   Family              5000 non-null   int64   \n",
      " 6   CCAvg               5000 non-null   float64 \n",
      " 7   Education           5000 non-null   category\n",
      " 8   Mortgage            5000 non-null   int64   \n",
      " 9   Personal Loan       5000 non-null   int64   \n",
      " 10  Securities Account  5000 non-null   int64   \n",
      " 11  CD Account          5000 non-null   int64   \n",
      " 12  Online              5000 non-null   int64   \n",
      " 13  CreditCard          5000 non-null   int64   \n",
      "dtypes: category(1), float64(1), int64(12)\n",
      "memory usage: 513.0 KB\n"
     ]
    }
   ],
   "source": [
    "bankloan.info()"
   ]
  },
  {
   "cell_type": "code",
   "execution_count": 9,
   "id": "0e0099fb-dae4-4c48-8f8d-d81c7078f6bf",
   "metadata": {
    "tags": []
   },
   "outputs": [],
   "source": [
    "education_dummies = pd.get_dummies(bankloan['Education'], prefix='Education', drop_first=True)"
   ]
  },
  {
   "cell_type": "code",
   "execution_count": 10,
   "id": "1a45edc9-bd7e-4857-b5a4-ea3a28bcb232",
   "metadata": {
    "tags": []
   },
   "outputs": [],
   "source": [
    "bankloan = pd.concat([bankloan, education_dummies], axis=1)"
   ]
  },
  {
   "cell_type": "code",
   "execution_count": 11,
   "id": "c2188d36-748a-48f6-ad61-e4d46785ea6f",
   "metadata": {
    "tags": []
   },
   "outputs": [
    {
     "name": "stdout",
     "output_type": "stream",
     "text": [
      "   ID  Age  Experience  Income  ZIP Code  Family  CCAvg  Mortgage  \\\n",
      "0   1   25           1      49     91107       4    1.6         0   \n",
      "1   2   45          19      34     90089       3    1.5         0   \n",
      "2   3   39          15      11     94720       1    1.0         0   \n",
      "3   4   35           9     100     94112       1    2.7         0   \n",
      "4   5   35           8      45     91330       4    1.0         0   \n",
      "\n",
      "   Personal Loan  Securities Account  CD Account  Online  CreditCard  \\\n",
      "0              0                   1           0       0           0   \n",
      "1              0                   1           0       0           0   \n",
      "2              0                   0           0       0           0   \n",
      "3              0                   0           0       0           0   \n",
      "4              0                   0           0       0           1   \n",
      "\n",
      "   Education_2  Education_3  \n",
      "0        False        False  \n",
      "1        False        False  \n",
      "2        False        False  \n",
      "3         True        False  \n",
      "4         True        False  \n"
     ]
    }
   ],
   "source": [
    "bankloan.drop('Education', axis=1, inplace=True)\n",
    "print(bankloan.head())"
   ]
  },
  {
   "cell_type": "code",
   "execution_count": 12,
   "id": "b0c65f03-7a91-431a-9f7e-e9909380c32a",
   "metadata": {
    "tags": []
   },
   "outputs": [],
   "source": [
    "bankloan.drop(columns=['ID','ZIP Code'], inplace=True)"
   ]
  },
  {
   "cell_type": "code",
   "execution_count": 13,
   "id": "22a546c5-54a7-47dc-99e6-083896306676",
   "metadata": {
    "tags": []
   },
   "outputs": [
    {
     "data": {
      "text/html": [
       "<div>\n",
       "<style scoped>\n",
       "    .dataframe tbody tr th:only-of-type {\n",
       "        vertical-align: middle;\n",
       "    }\n",
       "\n",
       "    .dataframe tbody tr th {\n",
       "        vertical-align: top;\n",
       "    }\n",
       "\n",
       "    .dataframe thead th {\n",
       "        text-align: right;\n",
       "    }\n",
       "</style>\n",
       "<table border=\"1\" class=\"dataframe\">\n",
       "  <thead>\n",
       "    <tr style=\"text-align: right;\">\n",
       "      <th></th>\n",
       "      <th>Age</th>\n",
       "      <th>Experience</th>\n",
       "      <th>Income</th>\n",
       "      <th>Family</th>\n",
       "      <th>CCAvg</th>\n",
       "      <th>Mortgage</th>\n",
       "      <th>Personal Loan</th>\n",
       "      <th>Securities Account</th>\n",
       "      <th>CD Account</th>\n",
       "      <th>Online</th>\n",
       "      <th>CreditCard</th>\n",
       "      <th>Education_2</th>\n",
       "      <th>Education_3</th>\n",
       "    </tr>\n",
       "  </thead>\n",
       "  <tbody>\n",
       "    <tr>\n",
       "      <th>0</th>\n",
       "      <td>25</td>\n",
       "      <td>1</td>\n",
       "      <td>49</td>\n",
       "      <td>4</td>\n",
       "      <td>1.6</td>\n",
       "      <td>0</td>\n",
       "      <td>0</td>\n",
       "      <td>1</td>\n",
       "      <td>0</td>\n",
       "      <td>0</td>\n",
       "      <td>0</td>\n",
       "      <td>False</td>\n",
       "      <td>False</td>\n",
       "    </tr>\n",
       "    <tr>\n",
       "      <th>1</th>\n",
       "      <td>45</td>\n",
       "      <td>19</td>\n",
       "      <td>34</td>\n",
       "      <td>3</td>\n",
       "      <td>1.5</td>\n",
       "      <td>0</td>\n",
       "      <td>0</td>\n",
       "      <td>1</td>\n",
       "      <td>0</td>\n",
       "      <td>0</td>\n",
       "      <td>0</td>\n",
       "      <td>False</td>\n",
       "      <td>False</td>\n",
       "    </tr>\n",
       "    <tr>\n",
       "      <th>2</th>\n",
       "      <td>39</td>\n",
       "      <td>15</td>\n",
       "      <td>11</td>\n",
       "      <td>1</td>\n",
       "      <td>1.0</td>\n",
       "      <td>0</td>\n",
       "      <td>0</td>\n",
       "      <td>0</td>\n",
       "      <td>0</td>\n",
       "      <td>0</td>\n",
       "      <td>0</td>\n",
       "      <td>False</td>\n",
       "      <td>False</td>\n",
       "    </tr>\n",
       "    <tr>\n",
       "      <th>3</th>\n",
       "      <td>35</td>\n",
       "      <td>9</td>\n",
       "      <td>100</td>\n",
       "      <td>1</td>\n",
       "      <td>2.7</td>\n",
       "      <td>0</td>\n",
       "      <td>0</td>\n",
       "      <td>0</td>\n",
       "      <td>0</td>\n",
       "      <td>0</td>\n",
       "      <td>0</td>\n",
       "      <td>True</td>\n",
       "      <td>False</td>\n",
       "    </tr>\n",
       "    <tr>\n",
       "      <th>4</th>\n",
       "      <td>35</td>\n",
       "      <td>8</td>\n",
       "      <td>45</td>\n",
       "      <td>4</td>\n",
       "      <td>1.0</td>\n",
       "      <td>0</td>\n",
       "      <td>0</td>\n",
       "      <td>0</td>\n",
       "      <td>0</td>\n",
       "      <td>0</td>\n",
       "      <td>1</td>\n",
       "      <td>True</td>\n",
       "      <td>False</td>\n",
       "    </tr>\n",
       "  </tbody>\n",
       "</table>\n",
       "</div>"
      ],
      "text/plain": [
       "   Age  Experience  Income  Family  CCAvg  Mortgage  Personal Loan  \\\n",
       "0   25           1      49       4    1.6         0              0   \n",
       "1   45          19      34       3    1.5         0              0   \n",
       "2   39          15      11       1    1.0         0              0   \n",
       "3   35           9     100       1    2.7         0              0   \n",
       "4   35           8      45       4    1.0         0              0   \n",
       "\n",
       "   Securities Account  CD Account  Online  CreditCard  Education_2  \\\n",
       "0                   1           0       0           0        False   \n",
       "1                   1           0       0           0        False   \n",
       "2                   0           0       0           0        False   \n",
       "3                   0           0       0           0         True   \n",
       "4                   0           0       0           1         True   \n",
       "\n",
       "   Education_3  \n",
       "0        False  \n",
       "1        False  \n",
       "2        False  \n",
       "3        False  \n",
       "4        False  "
      ]
     },
     "execution_count": 13,
     "metadata": {},
     "output_type": "execute_result"
    }
   ],
   "source": [
    "bankloan.head()"
   ]
  },
  {
   "cell_type": "code",
   "execution_count": 14,
   "id": "8123ef9f-7a37-4e47-84ba-1336031703b2",
   "metadata": {
    "tags": []
   },
   "outputs": [],
   "source": [
    "X = bankloan.drop(columns=['Personal Loan'])\n",
    "y = bankloan['Personal Loan']"
   ]
  },
  {
   "cell_type": "code",
   "execution_count": 15,
   "id": "f9399a74-610e-4078-9c0d-58da1287dbda",
   "metadata": {
    "tags": []
   },
   "outputs": [],
   "source": [
    "scaler = StandardScaler()\n",
    "X_normalized = scaler.fit_transform(X)"
   ]
  },
  {
   "cell_type": "code",
   "execution_count": 16,
   "id": "7cb8b004-c958-47cd-94dd-7fe380c1adef",
   "metadata": {
    "tags": []
   },
   "outputs": [],
   "source": [
    "X_train, X_test, y_train, y_test = train_test_split(X_normalized, y, test_size=0.3, random_state=42)"
   ]
  },
  {
   "cell_type": "code",
   "execution_count": 17,
   "id": "588e7ce6-d886-4d8c-9629-c515bcb226c9",
   "metadata": {
    "tags": []
   },
   "outputs": [],
   "source": [
    "new_customer = pd.DataFrame([{\n",
    "    'Age': 40,\n",
    "    'Experience': 15,\n",
    "    'Income': 85,\n",
    "    'Family': 4,\n",
    "    'CCAvg': 4,\n",
    "    'Mortgage': 100,\n",
    "    'Securities Account': 1,\n",
    "    'CD Account': 0,\n",
    "    'Online': 0,\n",
    "    'CreditCard': 1,\n",
    "    'Education_2': 1,\n",
    "    'Education_3': 0\n",
    "}])"
   ]
  },
  {
   "cell_type": "code",
   "execution_count": 18,
   "id": "f791358d-0e8e-4fd5-a75b-a375e8d43192",
   "metadata": {
    "tags": []
   },
   "outputs": [],
   "source": [
    "new_customer = scaler.transform(new_customer)"
   ]
  },
  {
   "cell_type": "code",
   "execution_count": 23,
   "id": "4ccbc5dd-53c5-43c2-9576-927e30d61ec2",
   "metadata": {
    "tags": []
   },
   "outputs": [],
   "source": [
    "best_k = 1\n",
    "best_accuracy = 0\n",
    "accuracies = []"
   ]
  },
  {
   "cell_type": "code",
   "execution_count": 33,
   "id": "2cd04a05-bf8d-418c-a013-3f497d4cdf05",
   "metadata": {
    "tags": []
   },
   "outputs": [
    {
     "name": "stdout",
     "output_type": "stream",
     "text": [
      "k=1, accuracy=0.9593333333333334\n",
      "k=2, accuracy=0.9486666666666667\n",
      "k=3, accuracy=0.958\n",
      "k=4, accuracy=0.946\n",
      "k=5, accuracy=0.9526666666666667\n",
      "k=6, accuracy=0.942\n",
      "k=7, accuracy=0.9493333333333334\n",
      "k=8, accuracy=0.9406666666666667\n",
      "k=9, accuracy=0.948\n",
      "k=10, accuracy=0.9406666666666667\n",
      "k=11, accuracy=0.9426666666666667\n",
      "k=12, accuracy=0.9386666666666666\n",
      "k=13, accuracy=0.942\n",
      "k=14, accuracy=0.9346666666666666\n",
      "k=15, accuracy=0.9393333333333334\n",
      "k=16, accuracy=0.9346666666666666\n",
      "k=17, accuracy=0.9413333333333334\n",
      "k=18, accuracy=0.936\n",
      "k=19, accuracy=0.9393333333333334\n",
      "k=20, accuracy=0.932\n"
     ]
    }
   ],
   "source": [
    "for k in range(1, 21):\n",
    "    knn = KNeighborsClassifier(n_neighbors=k)\n",
    "    knn.fit(X_train, y_train)\n",
    "    y_pred = knn.predict(X_test)\n",
    "    accuracy = accuracy_score(y_test, y_pred)\n",
    "    accuracies.append(accuracy)\n",
    "    print(f\"k={k}, accuracy={accuracy}\")\n",
    "    if accuracy > best_accuracy:\n",
    "        best_k = k\n",
    "        best_accuracy = accuracy"
   ]
  },
  {
   "cell_type": "code",
   "execution_count": 32,
   "id": "ff81b997-96bf-4e59-942a-cb9c3f8c0a91",
   "metadata": {
    "tags": []
   },
   "outputs": [
    {
     "name": "stdout",
     "output_type": "stream",
     "text": [
      "Best k: 1, Accuracy: 0.96\n"
     ]
    }
   ],
   "source": [
    "print(f\"Best k: {best_k}, Accuracy: {best_accuracy:.2f}\")"
   ]
  },
  {
   "cell_type": "code",
   "execution_count": 28,
   "id": "dedfd8c4-9ed9-480d-b5ea-ed5b9223d06e",
   "metadata": {
    "tags": []
   },
   "outputs": [
    {
     "data": {
      "image/png": "[encoded data removed]",
      "text/plain": [
       "<Figure size 1000x600 with 1 Axes>"
      ]
     },
     "metadata": {},
     "output_type": "display_data"
    }
   ],
   "source": [
    "plt.figure(figsize=(10, 6))\n",
    "plt.plot(range(1, 21), accuracies, marker='o', linestyle='-', color='b')\n",
    "plt.title(\"KNN Accuracy for different k Values\")\n",
    "plt.xlabel(\"Number of Neighbors (k)\")\n",
    "plt.ylabel(\"Accuracy\")\n",
    "plt.grid()\n",
    "plt.show()"
   ]
  },
  {
   "cell_type": "code",
   "execution_count": 22,
   "id": "968d1faf-2dc4-4999-accb-96e7e178b98d",
   "metadata": {
    "tags": []
   },
   "outputs": [
    {
     "name": "stdout",
     "output_type": "stream",
     "text": [
      "Prediction for the new customer: Personal Loan Not Approved\n"
     ]
    }
   ],
   "source": [
    "knn = KNeighborsClassifier(n_neighbors=best_k)\n",
    "knn.fit(X_train, y_train)\n",
    "new_customer_prediction = knn.predict(new_customer)\n",
    "\n",
    "print(f\"Prediction for the new customer: {'Personal Loan Approved' if new_customer_prediction[0] == 1 else 'Personal Loan Not Approved'}\")"
   ]
  },
  {
   "cell_type": "code",
   "execution_count": null,
   "id": "9765e839-11dd-4e82-ab27-4ce03e2e8d75",
   "metadata": {},
   "outputs": [],
   "source": []
  },
  {
   "cell_type": "code",
   "execution_count": null,
   "id": "16f8602c-6de2-4608-a050-82584ec3b9f0",
   "metadata": {},
   "outputs": [],
   "source": []
  },
  {
   "cell_type": "code",
   "execution_count": null,
   "id": "221533b4-f847-432f-9615-8c7eacfaff7c",
   "metadata": {},
   "outputs": [],
   "source": []
  },
  {
   "cell_type": "code",
   "execution_count": null,
   "id": "2b810ea7-db14-400c-8fe6-652787ef3bcb",
   "metadata": {},
   "outputs": [],
   "source": []
  },
  {
   "cell_type": "code",
   "execution_count": null,
   "id": "dc275244-5b8a-45a8-ad6e-c981ac7132d1",
   "metadata": {},
   "outputs": [],
   "source": []
  }
 ],
 "metadata": {
  "kernelspec": {
   "display_name": "Python 3 (ipykernel)",
   "language": "python",
   "name": "python3"
  },
  "language_info": {
   "codemirror_mode": {
    "name": "ipython",
    "version": 3
   },
   "file_extension": ".py",
   "mimetype": "text/x-python",
   "name": "python",
   "nbconvert_exporter": "python",
   "pygments_lexer": "ipython3",
   "version": "3.11.5"
  }
 },
 "nbformat": 4,
 "nbformat_minor": 5
}
